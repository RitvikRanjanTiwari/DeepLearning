{
 "cells": [
  {
   "cell_type": "code",
   "execution_count": 1,
   "id": "7a161afe",
   "metadata": {},
   "outputs": [],
   "source": [
    "\n",
    "\n",
    "import numpy as np # linear algebra\n",
    "import pandas as pd # data processing, CSV file I/O (e.g. pd.read_csv)\n",
    "import os\n",
    "import matplotlib.pyplot as plt\n",
    "import seaborn as sb\n",
    "sb.set_style('whitegrid')\n",
    "import tensorflow as tf\n",
    "from tensorflow.keras import layers,models,optimizers,preprocessing\n",
    "from tensorflow.keras.layers import Conv2D,Dense,MaxPooling2D,Flatten,Dropout"
   ]
  },
  {
   "cell_type": "code",
   "execution_count": 2,
   "id": "0e44e5aa",
   "metadata": {},
   "outputs": [],
   "source": [
    "##loading images\n",
    "main_dir = \"C:/Users/Ritvik/Downloads/archive (3)/\"\n",
    "classification_dirs = [(\"no_tumor\",), (\"meningioma_tumor\",)]\n",
    "resolution = 64\n",
    "\n",
    "def load_images(root_dir_name):\n",
    "    x = []\n",
    "    y = []\n",
    "    \n",
    "    for label, sub_dir_names in enumerate(classification_dirs):\n",
    "        for sub_dir_name in sub_dir_names:\n",
    "            print(f\"loading {root_dir_name} {sub_dir_name}\")\n",
    "            sub_dir_path = os.path.join(main_dir, root_dir_name, sub_dir_name)\n",
    "            for image_name in os.listdir(sub_dir_path):\n",
    "                image_path = os.path.join(sub_dir_path, image_name)\n",
    "                image = preprocessing.image.load_img(image_path, color_mode=\"grayscale\", target_size=(resolution, resolution))\n",
    "                x.append(preprocessing.image.img_to_array(image))\n",
    "                y.append(label)\n",
    "    \n",
    "    x = np.array(x) / 255.0\n",
    "    y = np.array(y)\n",
    "    \n",
    "    return x, y\n",
    "    return x, y"
   ]
  },
  {
   "cell_type": "code",
   "execution_count": null,
   "id": "6001111f",
   "metadata": {},
   "outputs": [
    {
     "name": "stdout",
     "output_type": "stream",
     "text": [
      "loading Training no_tumor\n",
      "loading Training meningioma_tumor\n",
      "loading Testing no_tumor\n"
     ]
    }
   ],
   "source": [
    "x_train, y_train = load_images(\"Training\")\n",
    "x_test, y_test = load_images(\"Testing\")"
   ]
  },
  {
   "cell_type": "code",
   "execution_count": null,
   "id": "f8d93052",
   "metadata": {},
   "outputs": [],
   "source": [
    "x_train.shape\n",
    "print(x_train)"
   ]
  },
  {
   "cell_type": "code",
   "execution_count": null,
   "id": "9bd3f679",
   "metadata": {},
   "outputs": [],
   "source": [
    "x_test.shape"
   ]
  },
  {
   "cell_type": "code",
   "execution_count": null,
   "id": "29df75ae",
   "metadata": {},
   "outputs": [],
   "source": [
    "c = 10\n",
    "\n",
    "fig, subplots = plt.subplots(1, c)\n",
    "fig.set_size_inches(25, 3)\n",
    "for i in range(c):\n",
    "    n = np.random.randint(0, len(x_train))\n",
    "    num = y_train[n]\n",
    "    word = \"out\" if num == 0 else \"\" \n",
    "    \n",
    "    subplots[i].imshow(x_train[n].reshape((resolution, resolution)), cmap=\"gray\")\n",
    "    subplots[i].set_title(f\"brain with{word} tumor: {num}\")\n",
    "    subplots[i].axis(\"off\")\n",
    "plt.show()"
   ]
  },
  {
   "cell_type": "code",
   "execution_count": null,
   "id": "a5871701",
   "metadata": {},
   "outputs": [],
   "source": [
    "input_shape = (64,64,1)\n",
    "model = models.Sequential()\n",
    "model.add(Conv2D(32,kernel_size = (2,2),strides = (1,1),activation = 'linear',input_shape = input_shape))\n",
    "model.add(MaxPooling2D(pool_size = (2,2),strides = (2,2)))\n",
    "model.add(Conv2D(64,kernel_size = (2,2),strides = (1,1),activation = 'linear'))\n",
    "model.add(MaxPooling2D(pool_size = (2,2),strides = (2,2)))\n",
    "model.add(Conv2D(128,kernel_size = (2,2),strides = (1,1),activation = 'linear'))\n",
    "model.add(MaxPooling2D(pool_size = (2,2),strides = (2,2)))\n",
    "model.add(Conv2D(256,kernel_size = (2,2),strides = (1,1),activation = 'linear'))\n",
    "model.add(MaxPooling2D(pool_size = (2,2),strides = (2,2)))\n",
    "model.add(Conv2D(512,kernel_size = (2,2),strides = (1,1),activation = 'linear'))\n",
    "model.add(MaxPooling2D(pool_size = (2,2),strides = (2,2)))\n",
    "model.add(Flatten())\n",
    "model.add(Dropout(0.5))\n",
    "model.add(Dense(256, activation=\"linear\"))\n",
    "model.add(Dense(1, activation=\"sigmoid\"))\n",
    "model.summary()\n"
   ]
  },
  {
   "cell_type": "code",
   "execution_count": null,
   "id": "9b3c8745",
   "metadata": {},
   "outputs": [],
   "source": [
    "model.compile(optimizer = 'adam',loss = \"binary_crossentropy\",metrics = ['accuracy'])"
   ]
  },
  {
   "cell_type": "code",
   "execution_count": 12,
   "id": "d421d712",
   "metadata": {},
   "outputs": [
    {
     "name": "stdout",
     "output_type": "stream",
     "text": [
      "Epoch 1/20\n",
      "244/244 [==============================] - 20s 59ms/step - loss: 0.5820 - accuracy: 0.7182 - val_loss: 0.9500 - val_accuracy: 0.5682\n",
      "Epoch 2/20\n",
      "244/244 [==============================] - 14s 56ms/step - loss: 0.3734 - accuracy: 0.8554 - val_loss: 0.4871 - val_accuracy: 0.7818\n",
      "Epoch 3/20\n",
      "244/244 [==============================] - 14s 56ms/step - loss: 0.2454 - accuracy: 0.9022 - val_loss: 0.3442 - val_accuracy: 0.8455\n",
      "Epoch 4/20\n",
      "244/244 [==============================] - 14s 56ms/step - loss: 0.1530 - accuracy: 0.9441 - val_loss: 0.3546 - val_accuracy: 0.8591\n",
      "Epoch 5/20\n",
      "244/244 [==============================] - 14s 56ms/step - loss: 0.1182 - accuracy: 0.9606 - val_loss: 0.2023 - val_accuracy: 0.9455\n",
      "Epoch 6/20\n",
      "244/244 [==============================] - 14s 56ms/step - loss: 0.0786 - accuracy: 0.9786 - val_loss: 0.0853 - val_accuracy: 0.9682\n",
      "Epoch 7/20\n",
      "244/244 [==============================] - 14s 56ms/step - loss: 0.0662 - accuracy: 0.9811 - val_loss: 0.0148 - val_accuracy: 0.9909\n",
      "Epoch 8/20\n",
      "244/244 [==============================] - 14s 56ms/step - loss: 0.0536 - accuracy: 0.9860 - val_loss: 0.0646 - val_accuracy: 0.9818\n",
      "Epoch 9/20\n",
      "244/244 [==============================] - 14s 56ms/step - loss: 0.0599 - accuracy: 0.9885 - val_loss: 0.0850 - val_accuracy: 0.9727\n",
      "Epoch 10/20\n",
      "244/244 [==============================] - 14s 56ms/step - loss: 0.0279 - accuracy: 0.9942 - val_loss: 0.0551 - val_accuracy: 0.9818\n",
      "Epoch 11/20\n",
      "244/244 [==============================] - 14s 57ms/step - loss: 0.0475 - accuracy: 0.9836 - val_loss: 0.0612 - val_accuracy: 0.9864\n",
      "Epoch 12/20\n",
      "244/244 [==============================] - 14s 57ms/step - loss: 0.0589 - accuracy: 0.9860 - val_loss: 0.1441 - val_accuracy: 0.9409\n",
      "Epoch 13/20\n",
      "244/244 [==============================] - 14s 56ms/step - loss: 0.0121 - accuracy: 0.9942 - val_loss: 0.0567 - val_accuracy: 0.9909\n",
      "Epoch 14/20\n",
      "244/244 [==============================] - 14s 56ms/step - loss: 0.0190 - accuracy: 0.9959 - val_loss: 0.0252 - val_accuracy: 0.9864\n",
      "Epoch 15/20\n",
      "244/244 [==============================] - 14s 59ms/step - loss: 0.0219 - accuracy: 0.9967 - val_loss: 0.0039 - val_accuracy: 1.0000\n",
      "Epoch 16/20\n",
      "244/244 [==============================] - 14s 56ms/step - loss: 0.0328 - accuracy: 0.9959 - val_loss: 0.0335 - val_accuracy: 0.9955\n",
      "Epoch 17/20\n",
      "244/244 [==============================] - 14s 57ms/step - loss: 0.0299 - accuracy: 0.9926 - val_loss: 0.0430 - val_accuracy: 0.9955\n",
      "Epoch 18/20\n",
      "244/244 [==============================] - 14s 57ms/step - loss: 0.0126 - accuracy: 0.9967 - val_loss: 0.0385 - val_accuracy: 0.9955\n",
      "Epoch 19/20\n",
      "244/244 [==============================] - 14s 57ms/step - loss: 0.0011 - accuracy: 0.9992 - val_loss: 0.0360 - val_accuracy: 0.9955\n",
      "Epoch 20/20\n",
      "244/244 [==============================] - 14s 57ms/step - loss: 2.2884e-06 - accuracy: 1.0000 - val_loss: 0.0170 - val_accuracy: 0.9955\n"
     ]
    },
    {
     "data": {
      "text/plain": [
       "<keras.callbacks.History at 0x165192cea90>"
      ]
     },
     "execution_count": 12,
     "metadata": {},
     "output_type": "execute_result"
    }
   ],
   "source": [
    "model.fit(x_train,y_train,batch_size = 5,epochs = 20, validation_data=(x_test, y_test))"
   ]
  },
  {
   "cell_type": "code",
   "execution_count": null,
   "id": "bdd64e7e",
   "metadata": {},
   "outputs": [],
   "source": []
  }
 ],
 "metadata": {
  "kernelspec": {
   "display_name": "Python 3 (ipykernel)",
   "language": "python",
   "name": "python3"
  },
  "language_info": {
   "codemirror_mode": {
    "name": "ipython",
    "version": 3
   },
   "file_extension": ".py",
   "mimetype": "text/x-python",
   "name": "python",
   "nbconvert_exporter": "python",
   "pygments_lexer": "ipython3",
   "version": "3.9.7"
  }
 },
 "nbformat": 4,
 "nbformat_minor": 5
}
